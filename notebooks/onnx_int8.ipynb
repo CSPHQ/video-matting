{
 "cells": [
  {
   "cell_type": "code",
   "execution_count": 7,
   "metadata": {},
   "outputs": [],
   "source": [
    "import onnx\n",
    "from onnxruntime.quantization import quantize_dynamic, QuantType"
   ]
  },
  {
   "cell_type": "code",
   "execution_count": 8,
   "metadata": {},
   "outputs": [
    {
     "name": "stdout",
     "output_type": "stream",
     "text": [
      "com.mp4\t\t pha.mp4\t\t\trvm_mobilenetv3_int8.onnx\r\n",
      "Dockerfile\t __pycache__\t\t\trvm_mobilenetv3_int8.onnx.data\r\n",
      "fgr.mp4\t\t requirements.txt\t\trvm.py\r\n",
      "onnx_int8.ipynb  run.py\t\t\t\trvm_resnet50_fp32.onnx\r\n",
      "onnx_run.ipynb\t rvm_mobilenetv3_fp32.onnx\tscripts\r\n",
      "outpy.avi\t rvm_mobilenetv3_fp32-opt.onnx\ttest.mp4\r\n"
     ]
    }
   ],
   "source": [
    "!ls ."
   ]
  },
  {
   "cell_type": "code",
   "execution_count": 12,
   "metadata": {},
   "outputs": [],
   "source": [
    "quantized_model = quantize_dynamic(\n",
    "    'rvm_mobilenetv3_fp32.onnx',\n",
    "    'rvm_mobilenetv3_int8.onnx',\n",
    "    weight_type=QuantType.QUInt8,\n",
    "    use_external_data_format=False\n",
    ")"
   ]
  },
  {
   "cell_type": "code",
   "execution_count": 13,
   "metadata": {},
   "outputs": [],
   "source": [
    "quantized_model = quantize_dynamic(\n",
    "    'rvm_resnet50_fp32.onnx',\n",
    "    'rvm_resnet50_int8.onnx',\n",
    "    weight_type=QuantType.QUInt8,\n",
    "    use_external_data_format=False\n",
    ")"
   ]
  },
  {
   "cell_type": "code",
   "execution_count": 14,
   "metadata": {},
   "outputs": [
    {
     "name": "stdout",
     "output_type": "stream",
     "text": [
      "com.mp4\t\t __pycache__\t\t\t rvm.py\r\n",
      "Dockerfile\t requirements.txt\t\t rvm_resnet50_fp32.onnx\r\n",
      "fgr.mp4\t\t run.py\t\t\t\t rvm_resnet50_fp32-opt.onnx\r\n",
      "onnx_int8.ipynb  rvm_mobilenetv3_fp32.onnx\t rvm_resnet50_int8.onnx\r\n",
      "onnx_run.ipynb\t rvm_mobilenetv3_fp32-opt.onnx\t rvm_resnet50_int8.onnx.data\r\n",
      "outpy.avi\t rvm_mobilenetv3_int8.onnx\t scripts\r\n",
      "pha.mp4\t\t rvm_mobilenetv3_int8.onnx.data  test.mp4\r\n"
     ]
    }
   ],
   "source": [
    "!ls ."
   ]
  },
  {
   "cell_type": "code",
   "execution_count": 15,
   "metadata": {},
   "outputs": [
    {
     "name": "stdout",
     "output_type": "stream",
     "text": [
      "3.8M\trvm_mobilenetv3_int8.onnx\r\n"
     ]
    }
   ],
   "source": [
    "!du -sh rvm_mobilenetv3_int8.onnx"
   ]
  },
  {
   "cell_type": "code",
   "execution_count": 16,
   "metadata": {},
   "outputs": [
    {
     "name": "stdout",
     "output_type": "stream",
     "text": [
      "26M\trvm_resnet50_int8.onnx\r\n"
     ]
    }
   ],
   "source": [
    "!du -sh rvm_resnet50_int8.onnx"
   ]
  },
  {
   "cell_type": "code",
   "execution_count": null,
   "metadata": {},
   "outputs": [],
   "source": []
  }
 ],
 "metadata": {
  "kernelspec": {
   "display_name": "Python 3",
   "language": "python",
   "name": "python3"
  },
  "language_info": {
   "codemirror_mode": {
    "name": "ipython",
    "version": 3
   },
   "file_extension": ".py",
   "mimetype": "text/x-python",
   "name": "python",
   "nbconvert_exporter": "python",
   "pygments_lexer": "ipython3",
   "version": "3.8.6"
  }
 },
 "nbformat": 4,
 "nbformat_minor": 4
}
