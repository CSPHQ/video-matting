{
 "cells": [
  {
   "cell_type": "code",
   "execution_count": 13,
   "metadata": {},
   "outputs": [],
   "source": [
    "import os\n",
    "import math\n",
    "import tempfile\n",
    "import fire\n",
    "from tqdm import tqdm\n",
    "import numpy as np\n",
    "import cv2\n",
    "from jax import jit\n",
    "from onnxruntime import (\n",
    "    GraphOptimizationLevel, InferenceSession,\n",
    "    SessionOptions, get_available_providers\n",
    ")"
   ]
  },
  {
   "cell_type": "code",
   "execution_count": 14,
   "metadata": {},
   "outputs": [],
   "source": [
    "import time"
   ]
  },
  {
   "cell_type": "code",
   "execution_count": 24,
   "metadata": {},
   "outputs": [],
   "source": [
    "CURRENT_DIR = os.path.realpath(os.path.dirname(''))\n",
    "NUM_THREADS = min(1, os.cpu_count())"
   ]
  },
  {
   "cell_type": "code",
   "execution_count": 33,
   "metadata": {},
   "outputs": [],
   "source": [
    "def create_model_for_provider(\n",
    "    model_path: str,\n",
    "    provider: str = 'auto',\n",
    "    num_threads=None\n",
    ") -> InferenceSession:\n",
    "    if provider == 'auto':\n",
    "        if 'CUDAExecutionProvider' in get_available_providers():\n",
    "            provider = 'CUDAExecutionProvider'\n",
    "        else:\n",
    "            provider = 'CPUExecutionProvider'\n",
    "        print('model provider', provider)\n",
    "    assert provider in get_available_providers(), \\\n",
    "        f\"provider {provider} not found, {get_available_providers()}\"\n",
    "    \n",
    "    # Few properties that might have an impact on performances (provided by MS)\n",
    "    options = SessionOptions()\n",
    "    if num_threads is not None:\n",
    "        options.intra_op_num_threads = num_threads\n",
    "    else:\n",
    "        options.intra_op_num_threads = int(os.environ.get('NUM_THREADS', NUM_THREADS))\n",
    "    options.graph_optimization_level = GraphOptimizationLevel.ORT_ENABLE_ALL\n",
    "    # Load the model as a graph and prepare the CPU backend\n",
    "    session = InferenceSession(model_path, options, providers=[provider])\n",
    "    session.disable_fallback()\n",
    "    return session\n",
    "\n",
    "\n",
    "def get_video(cap):\n",
    "    c = 0\n",
    "    while True:\n",
    "        if cap.grab():\n",
    "            flag, frame = cap.retrieve()\n",
    "            if not flag:\n",
    "                continue\n",
    "            else:\n",
    "                frame = cv2.cvtColor(frame, cv2.COLOR_BGR2RGB)\n",
    "                src = np.expand_dims(np.transpose(frame, (2, 0, 1)), 0).astype(np.float32) / 255.0\n",
    "                yield src\n",
    "            c += 1\n",
    "            if c >= 10:\n",
    "                break\n",
    "        else:\n",
    "            break\n",
    "\n",
    "\n",
    "@jit\n",
    "def compute_border(fgr, pha, border):\n",
    "    output_img_border = fgr * pha + (1 - pha) * border\n",
    "    output_img_border = np.clip(output_img_border, 0.0, 1.0)\n",
    "    output_img_border = (output_img_border * 255.0).astype('uint8')\n",
    "    ipha = ((pha > 0.2) * 255).astype('uint8')\n",
    "    return output_img_border, ipha\n",
    "\n",
    "@jit\n",
    "def compute_border_2(output_img_border, img_dilation_filter, green):\n",
    "    return (output_img_border * img_dilation_filter) + (1 - img_dilation_filter) * green * 255\n",
    "\n",
    "\n",
    "@jit\n",
    "def compute_without_border(fgr, pha, green):\n",
    "    output_img = fgr * pha + (1 - pha) * green\n",
    "    output_img = np.clip(output_img, 0.0, 1.0)\n",
    "    output_img = (output_img * 255.0)\n",
    "    return output_img\n",
    "\n",
    "def write_frame(fgr, pha, border, green, use_border):\n",
    "    if use_border:\n",
    "        output_img_border, ipha = compute_border(fgr, pha, border)\n",
    "        output_img_border = np.array(output_img_border)\n",
    "        ipha = np.array(ipha)\n",
    "\n",
    "        dilation = cv2.dilate(np.array(ipha[0]), np.ones((5, 5)), iterations=1)\n",
    "        img_dilation = np.expand_dims(np.expand_dims(dilation, 0), -1)\n",
    "        img_dilation_filter = img_dilation.astype('float32') / 255.0\n",
    "\n",
    "        output_img_border = np.array(\n",
    "            compute_border_2(\n",
    "                output_img_border, img_dilation_filter, green\n",
    "            )\n",
    "        ).astype('uint8')\n",
    "\n",
    "        output_img = output_img_border\n",
    "    else:\n",
    "        output_img = np.array(compute_without_border(fgr, pha, green)).astype('uint8')\n",
    "    oi = cv2.cvtColor(output_img[0], cv2.COLOR_RGB2BGR)\n",
    "    return oi\n",
    "\n",
    "\n",
    "def generate_result(cap, all_frames, sess, model_path, downsample):\n",
    "    pbar = tqdm(\n",
    "        get_video(cap=cap),\n",
    "        total=math.ceil(all_frames)\n",
    "    )\n",
    "    rec = [ np.zeros([1, 1, 1, 1], dtype=np.float32) ] * 4  # Must match dtype of the model.\n",
    "    downsample_ratio = np.array([downsample], dtype=np.float32)  # dtype always FP32\n",
    "    for src in pbar:\n",
    "        batch_inputs = src\n",
    "        if 'fp16' in model_path:\n",
    "            batch_inputs = batch_inputs.astype('float16')\n",
    "            rec = [x.astype('float16') for x in rec]\n",
    "        elif 'fp32' in model_path:\n",
    "            batch_inputs = batch_inputs.astype('float32')\n",
    "            rec = [x.astype('float32') for x in rec]\n",
    "        fgr, pha, *rec = sess.run([], {\n",
    "            'src': batch_inputs,\n",
    "            'r1i': rec[0][-1:], 'r2i': rec[1][-1:], 'r3i': rec[2][-1:], 'r4i': rec[3][-1:],\n",
    "            'downsample_ratio': downsample_ratio\n",
    "        })\n",
    "        fgr = np.transpose(fgr, [0, 2, 3, 1])\n",
    "        pha = np.transpose(pha, [0, 2, 3, 1])\n",
    "        yield fgr, pha\n",
    "\n",
    "\n",
    "def convert(\n",
    "    input_file,\n",
    "    output_file,\n",
    "    model_path=os.path.join(CURRENT_DIR, 'rvm_mobilenetv3_int8.onnx'),\n",
    "    downsample=0.5,\n",
    "    green_color=[0, 255, 0],\n",
    "    use_border=False,\n",
    "    border_color=[255, 255, 255],\n",
    "    num_threads=None\n",
    "):\n",
    "    assert os.path.exists(input_file), 'Input file not found'\n",
    "    assert os.path.exists(model_path), 'Model not found'\n",
    "    ss = time.time()\n",
    "\n",
    "    sess = create_model_for_provider(model_path, num_threads=num_threads)\n",
    "\n",
    "    green = np.array(green_color).reshape([1, 1, 3]) / 255.\n",
    "    border = np.array(border_color).reshape([1, 1, 3]) / 255.\n",
    "\n",
    "    cap = cv2.VideoCapture(input_file)\n",
    "    all_frames = int(cap.get(cv2.CAP_PROP_FRAME_COUNT))\n",
    "    fps = float(cap.get(cv2.CAP_PROP_FPS))\n",
    "    width  = int(cap.get(cv2.CAP_PROP_FRAME_WIDTH))\n",
    "    height = int(cap.get(cv2.CAP_PROP_FRAME_HEIGHT))\n",
    "\n",
    "    fourcc = cv2.VideoWriter_fourcc(*'mp4v')\n",
    "\n",
    "    out = cv2.VideoWriter('tmp.mp4', fourcc, fps, (width, height))\n",
    "\n",
    "    for fgr, pha in generate_result(cap, all_frames, sess, model_path, downsample):\n",
    "        o = write_frame(fgr, pha, border, green, use_border)\n",
    "        # out.write(o)\n",
    "\n",
    "    out.release()\n",
    "    cap.release()\n",
    "    # combine_audio(f.name, input_file, output_file)\n",
    "    print(time.time() - ss)"
   ]
  },
  {
   "cell_type": "code",
   "execution_count": 36,
   "metadata": {},
   "outputs": [
    {
     "name": "stderr",
     "output_type": "stream",
     "text": [
      "\r",
      "  0%|          | 0/365 [00:00<?, ?it/s]"
     ]
    },
    {
     "name": "stdout",
     "output_type": "stream",
     "text": [
      "1\n",
      "model provider CPUExecutionProvider\n"
     ]
    },
    {
     "name": "stderr",
     "output_type": "stream",
     "text": [
      "  3%|▎         | 10/365 [00:21<12:28,  2.11s/it]\n"
     ]
    },
    {
     "name": "stdout",
     "output_type": "stream",
     "text": [
      "21.515475749969482\n",
      "model provider CPUExecutionProvider\n"
     ]
    },
    {
     "name": "stderr",
     "output_type": "stream",
     "text": [
      "  3%|▎         | 10/365 [00:21<12:28,  2.11s/it]\n"
     ]
    },
    {
     "name": "stdout",
     "output_type": "stream",
     "text": [
      "21.49342131614685\n",
      "2\n",
      "model provider CPUExecutionProvider\n"
     ]
    },
    {
     "name": "stderr",
     "output_type": "stream",
     "text": [
      "  3%|▎         | 10/365 [00:13<08:04,  1.36s/it]\n"
     ]
    },
    {
     "name": "stdout",
     "output_type": "stream",
     "text": [
      "14.09043288230896\n",
      "model provider CPUExecutionProvider\n"
     ]
    },
    {
     "name": "stderr",
     "output_type": "stream",
     "text": [
      "  3%|▎         | 10/365 [00:13<07:54,  1.34s/it]\n"
     ]
    },
    {
     "name": "stdout",
     "output_type": "stream",
     "text": [
      "13.81650686264038\n",
      "4\n",
      "model provider CPUExecutionProvider\n"
     ]
    },
    {
     "name": "stderr",
     "output_type": "stream",
     "text": [
      "  3%|▎         | 10/365 [00:09<05:53,  1.00it/s]\n"
     ]
    },
    {
     "name": "stdout",
     "output_type": "stream",
     "text": [
      "10.384968042373657\n",
      "model provider CPUExecutionProvider\n"
     ]
    },
    {
     "name": "stderr",
     "output_type": "stream",
     "text": [
      "  3%|▎         | 10/365 [00:10<05:55,  1.00s/it]\n"
     ]
    },
    {
     "name": "stdout",
     "output_type": "stream",
     "text": [
      "10.437133073806763\n",
      "6\n",
      "model provider CPUExecutionProvider\n"
     ]
    },
    {
     "name": "stderr",
     "output_type": "stream",
     "text": [
      "  3%|▎         | 10/365 [00:16<09:46,  1.65s/it]\n"
     ]
    },
    {
     "name": "stdout",
     "output_type": "stream",
     "text": [
      "16.953156232833862\n",
      "model provider CPUExecutionProvider\n"
     ]
    },
    {
     "name": "stderr",
     "output_type": "stream",
     "text": [
      "  3%|▎         | 10/365 [00:16<09:40,  1.64s/it]\n"
     ]
    },
    {
     "name": "stdout",
     "output_type": "stream",
     "text": [
      "16.772194147109985\n",
      "8\n",
      "model provider CPUExecutionProvider\n"
     ]
    },
    {
     "name": "stderr",
     "output_type": "stream",
     "text": [
      "  3%|▎         | 10/365 [00:22<13:13,  2.24s/it]\n"
     ]
    },
    {
     "name": "stdout",
     "output_type": "stream",
     "text": [
      "22.76658844947815\n",
      "model provider CPUExecutionProvider\n"
     ]
    },
    {
     "name": "stderr",
     "output_type": "stream",
     "text": [
      "  3%|▎         | 10/365 [00:22<13:34,  2.30s/it]\n"
     ]
    },
    {
     "name": "stdout",
     "output_type": "stream",
     "text": [
      "23.38491153717041\n",
      "10\n",
      "model provider CPUExecutionProvider\n"
     ]
    },
    {
     "name": "stderr",
     "output_type": "stream",
     "text": [
      "  3%|▎         | 10/365 [00:29<17:26,  2.95s/it]\n"
     ]
    },
    {
     "name": "stdout",
     "output_type": "stream",
     "text": [
      "29.896848917007446\n",
      "model provider CPUExecutionProvider\n"
     ]
    },
    {
     "name": "stderr",
     "output_type": "stream",
     "text": [
      "  3%|▎         | 10/365 [00:32<19:01,  3.22s/it]\n"
     ]
    },
    {
     "name": "stdout",
     "output_type": "stream",
     "text": [
      "32.61180758476257\n",
      "12\n",
      "model provider CPUExecutionProvider\n"
     ]
    },
    {
     "name": "stderr",
     "output_type": "stream",
     "text": [
      "  3%|▎         | 10/365 [00:34<20:37,  3.49s/it]\n"
     ]
    },
    {
     "name": "stdout",
     "output_type": "stream",
     "text": [
      "35.331199407577515\n",
      "model provider CPUExecutionProvider\n"
     ]
    },
    {
     "name": "stderr",
     "output_type": "stream",
     "text": [
      "  3%|▎         | 10/365 [00:35<20:58,  3.54s/it]"
     ]
    },
    {
     "name": "stdout",
     "output_type": "stream",
     "text": [
      "35.890734910964966\n"
     ]
    },
    {
     "name": "stderr",
     "output_type": "stream",
     "text": [
      "\n"
     ]
    }
   ],
   "source": [
    "for t in (1, 2, 4, 6, 8, 10, 12):\n",
    "    print(t)\n",
    "    convert('../IMG_5022.MOV', './out.mp4', '../rvm/rvm_mobilenetv3_int8.onnx', num_threads=t)\n",
    "    convert('../IMG_5022.MOV', './out.mp4', '../rvm/rvm_mobilenetv3_int8.onnx', num_threads=t)"
   ]
  },
  {
   "cell_type": "code",
   "execution_count": 37,
   "metadata": {},
   "outputs": [
    {
     "name": "stderr",
     "output_type": "stream",
     "text": [
      "\r",
      "  0%|          | 0/365 [00:00<?, ?it/s]"
     ]
    },
    {
     "name": "stdout",
     "output_type": "stream",
     "text": [
      "1\n",
      "model provider CPUExecutionProvider\n"
     ]
    },
    {
     "name": "stderr",
     "output_type": "stream",
     "text": [
      "  3%|▎         | 10/365 [00:15<09:07,  1.54s/it]\n",
      "  0%|          | 0/365 [00:00<?, ?it/s]"
     ]
    },
    {
     "name": "stdout",
     "output_type": "stream",
     "text": [
      "15.5608389377594\n",
      "model provider CPUExecutionProvider\n"
     ]
    },
    {
     "name": "stderr",
     "output_type": "stream",
     "text": [
      "  3%|▎         | 10/365 [00:15<09:22,  1.58s/it]\n",
      "  0%|          | 0/365 [00:00<?, ?it/s]"
     ]
    },
    {
     "name": "stdout",
     "output_type": "stream",
     "text": [
      "15.982490062713623\n",
      "2\n",
      "model provider CPUExecutionProvider\n"
     ]
    },
    {
     "name": "stderr",
     "output_type": "stream",
     "text": [
      "  3%|▎         | 10/365 [00:09<05:32,  1.07it/s]\n",
      "  0%|          | 0/365 [00:00<?, ?it/s]"
     ]
    },
    {
     "name": "stdout",
     "output_type": "stream",
     "text": [
      "9.50753927230835\n",
      "model provider CPUExecutionProvider\n"
     ]
    },
    {
     "name": "stderr",
     "output_type": "stream",
     "text": [
      "  3%|▎         | 10/365 [00:09<05:32,  1.07it/s]\n",
      "  0%|          | 0/365 [00:00<?, ?it/s]"
     ]
    },
    {
     "name": "stdout",
     "output_type": "stream",
     "text": [
      "9.486950159072876\n",
      "4\n",
      "model provider CPUExecutionProvider\n"
     ]
    },
    {
     "name": "stderr",
     "output_type": "stream",
     "text": [
      "  3%|▎         | 10/365 [00:06<03:52,  1.52it/s]\n",
      "  0%|          | 0/365 [00:00<?, ?it/s]"
     ]
    },
    {
     "name": "stdout",
     "output_type": "stream",
     "text": [
      "6.698566913604736\n",
      "model provider CPUExecutionProvider\n"
     ]
    },
    {
     "name": "stderr",
     "output_type": "stream",
     "text": [
      "  3%|▎         | 10/365 [00:06<03:47,  1.56it/s]\n",
      "  0%|          | 0/365 [00:00<?, ?it/s]"
     ]
    },
    {
     "name": "stdout",
     "output_type": "stream",
     "text": [
      "6.531675577163696\n",
      "6\n",
      "model provider CPUExecutionProvider\n"
     ]
    },
    {
     "name": "stderr",
     "output_type": "stream",
     "text": [
      "  3%|▎         | 10/365 [00:10<06:05,  1.03s/it]\n",
      "  0%|          | 0/365 [00:00<?, ?it/s]"
     ]
    },
    {
     "name": "stdout",
     "output_type": "stream",
     "text": [
      "10.430461645126343\n",
      "model provider CPUExecutionProvider\n"
     ]
    },
    {
     "name": "stderr",
     "output_type": "stream",
     "text": [
      "  3%|▎         | 10/365 [00:11<06:33,  1.11s/it]\n",
      "  0%|          | 0/365 [00:00<?, ?it/s]"
     ]
    },
    {
     "name": "stdout",
     "output_type": "stream",
     "text": [
      "11.219563961029053\n",
      "8\n",
      "model provider CPUExecutionProvider\n"
     ]
    },
    {
     "name": "stderr",
     "output_type": "stream",
     "text": [
      "  3%|▎         | 10/365 [00:14<08:34,  1.45s/it]\n",
      "  0%|          | 0/365 [00:00<?, ?it/s]"
     ]
    },
    {
     "name": "stdout",
     "output_type": "stream",
     "text": [
      "14.65671420097351\n",
      "model provider CPUExecutionProvider\n"
     ]
    },
    {
     "name": "stderr",
     "output_type": "stream",
     "text": [
      "  3%|▎         | 10/365 [00:14<08:19,  1.41s/it]\n",
      "  0%|          | 0/365 [00:00<?, ?it/s]"
     ]
    },
    {
     "name": "stdout",
     "output_type": "stream",
     "text": [
      "14.221046924591064\n",
      "10\n",
      "model provider CPUExecutionProvider\n"
     ]
    },
    {
     "name": "stderr",
     "output_type": "stream",
     "text": [
      "  3%|▎         | 10/365 [00:18<11:10,  1.89s/it]\n",
      "  0%|          | 0/365 [00:00<?, ?it/s]"
     ]
    },
    {
     "name": "stdout",
     "output_type": "stream",
     "text": [
      "19.016494750976562\n",
      "model provider CPUExecutionProvider\n"
     ]
    },
    {
     "name": "stderr",
     "output_type": "stream",
     "text": [
      "  3%|▎         | 10/365 [00:19<11:23,  1.93s/it]\n",
      "  0%|          | 0/365 [00:00<?, ?it/s]"
     ]
    },
    {
     "name": "stdout",
     "output_type": "stream",
     "text": [
      "19.396165370941162\n",
      "12\n",
      "model provider CPUExecutionProvider\n"
     ]
    },
    {
     "name": "stderr",
     "output_type": "stream",
     "text": [
      "  3%|▎         | 10/365 [00:22<13:06,  2.22s/it]\n",
      "  0%|          | 0/365 [00:00<?, ?it/s]"
     ]
    },
    {
     "name": "stdout",
     "output_type": "stream",
     "text": [
      "22.29765295982361\n",
      "model provider CPUExecutionProvider\n"
     ]
    },
    {
     "name": "stderr",
     "output_type": "stream",
     "text": [
      "  3%|▎         | 10/365 [00:21<12:42,  2.15s/it]"
     ]
    },
    {
     "name": "stdout",
     "output_type": "stream",
     "text": [
      "21.615721940994263\n"
     ]
    },
    {
     "name": "stderr",
     "output_type": "stream",
     "text": [
      "\n"
     ]
    }
   ],
   "source": [
    "for t in (1, 2, 4, 6, 8, 10, 12):\n",
    "    print(t)\n",
    "    convert('../IMG_5022.MOV', './out.mp4', '../rvm_mobilenetv3_fp32.onnx', num_threads=t)\n",
    "    convert('../IMG_5022.MOV', './out.mp4', '../rvm_mobilenetv3_fp32.onnx', num_threads=t)"
   ]
  },
  {
   "cell_type": "code",
   "execution_count": null,
   "metadata": {},
   "outputs": [],
   "source": []
  },
  {
   "cell_type": "code",
   "execution_count": null,
   "metadata": {},
   "outputs": [],
   "source": []
  }
 ],
 "metadata": {
  "kernelspec": {
   "display_name": "Python 3",
   "language": "python",
   "name": "python3"
  },
  "language_info": {
   "codemirror_mode": {
    "name": "ipython",
    "version": 3
   },
   "file_extension": ".py",
   "mimetype": "text/x-python",
   "name": "python",
   "nbconvert_exporter": "python",
   "pygments_lexer": "ipython3",
   "version": "3.8.6"
  }
 },
 "nbformat": 4,
 "nbformat_minor": 4
}
